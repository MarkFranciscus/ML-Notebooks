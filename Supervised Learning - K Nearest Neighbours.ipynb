{
 "cells": [
  {
   "cell_type": "markdown",
   "metadata": {},
   "source": [
    "# K Nearest Neighbours - KNN\n",
    "\n",
    "KNN is a very simple classification algorithm in which you are comparing a new unclassified item,x, to all the known classified items, y.\n",
    "\n",
    "The name very simply describes how the algorithm works. It classifies by comparing the \"distance\" of the unclassified item to the known items. k is a hyperparameter, it refers the the number of neighbours x will be compared to.\n",
    "\n",
    "The algorithm has 3 steps\n",
    "\n",
    "1. Calculate distance from x to every other item\n",
    "2. Determine x's nearest k amount of neighbours\n",
    "3. Average out the distances of the categories of the neighbours, x is assigned the closest category.  "
   ]
  },
  {
   "cell_type": "code",
   "execution_count": null,
   "metadata": {},
   "outputs": [],
   "source": []
  }
 ],
 "metadata": {
  "kernelspec": {
   "display_name": "Python 3",
   "language": "python",
   "name": "python3"
  },
  "language_info": {
   "codemirror_mode": {
    "name": "ipython",
    "version": 3
   },
   "file_extension": ".py",
   "mimetype": "text/x-python",
   "name": "python",
   "nbconvert_exporter": "python",
   "pygments_lexer": "ipython3",
   "version": "3.6.5"
  }
 },
 "nbformat": 4,
 "nbformat_minor": 2
}

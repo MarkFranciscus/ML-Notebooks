{
 "cells": [
  {
   "cell_type": "code",
   "execution_count": 98,
   "metadata": {},
   "outputs": [],
   "source": [
    "%matplotlib inline"
   ]
  },
  {
   "cell_type": "markdown",
   "metadata": {},
   "source": [
    "# K Nearest Neighbours - KNN\n",
    "\n",
    "KNN is a very simple classification algorithm in which you are comparing a new unclassified item,x, to all the known classified items, y.\n",
    "\n",
    "The name very simply describes how the algorithm works. It classifies by comparing the \"distance\" of the unclassified item to the known items. k is a hyperparameter, it refers the the number of neighbours x will be compared to.\n",
    "\n",
    "The algorithm has 3 steps\n",
    "\n",
    "1. Calculate distance from x to every other item\n",
    "2. Determine x's nearest k amount of neighbours\n",
    "3. Average out the distances of the categories of the neighbours, x is assigned the closest category.\n",
    "\n",
    "### Example\n",
    "\n",
    "Lets take a look at a very simple example."
   ]
  },
  {
   "cell_type": "code",
   "execution_count": 99,
   "metadata": {},
   "outputs": [
    {
     "data": {
      "text/plain": [
       "<matplotlib.collections.PathCollection at 0x2b551e94a58>"
      ]
     },
     "execution_count": 99,
     "metadata": {},
     "output_type": "execute_result"
    },
    {
     "data": {
      "image/png": "[encoded data removed]",
      "text/plain": [
       "<Figure size 432x288 with 1 Axes>"
      ]
     },
     "metadata": {},
     "output_type": "display_data"
    }
   ],
   "source": [
    "import matplotlib.pyplot as plt\n",
    "\n",
    "fig, ax = plt.subplots()\n",
    "ax.set_xlim([0,6])\n",
    "ax.set_ylim([0,6])\n",
    "x = [0.9, 1.1, 1.1, 4.9, 5.0, 5.1]\n",
    "y = [5.1, 5.0, 4.9, 0.9, 1.0, 1.1]\n",
    "ax.scatter(x, y)"
   ]
  },
  {
   "cell_type": "markdown",
   "metadata": {},
   "source": [
    "If I was asked to create two categories for this dataset there is two obvious choices"
   ]
  },
  {
   "cell_type": "code",
   "execution_count": 100,
   "metadata": {},
   "outputs": [
    {
     "data": {
      "image/png": "[encoded data removed]",
      "text/plain": [
       "<Figure size 432x288 with 1 Axes>"
      ]
     },
     "execution_count": 100,
     "metadata": {},
     "output_type": "execute_result"
    }
   ],
   "source": [
    "circle_1 = plt.Circle((1,5), .5, color=\"black\", fill=False)\n",
    "circle_2 = plt.Circle((5,1), .5, color=\"black\", fill=False)\n",
    "ax.add_patch(circle_1)\n",
    "ax.add_patch(circle_2)\n",
    "fig"
   ]
  },
  {
   "cell_type": "markdown",
   "metadata": {},
   "source": [
    "Pretty simple, but what about if we want to know the category of a new point?"
   ]
  },
  {
   "cell_type": "code",
   "execution_count": 101,
   "metadata": {},
   "outputs": [
    {
     "data": {
      "image/png": "[encoded data removed]",
      "text/plain": [
       "<Figure size 432x288 with 1 Axes>"
      ]
     },
     "execution_count": 101,
     "metadata": {},
     "output_type": "execute_result"
    }
   ],
   "source": [
    "# circle_1.remove()\n",
    "# circle_2.remove()\n",
    "\n",
    "ax.scatter([1],[4.5])\n",
    "fig"
   ]
  },
  {
   "cell_type": "markdown",
   "metadata": {},
   "source": [
    "Which category does this new belong to? Most likely to the top left cluster.\n",
    "\n",
    "What about"
   ]
  },
  {
   "cell_type": "code",
   "execution_count": 108,
   "metadata": {},
   "outputs": [
    {
     "data": {
      "image/png": "[encoded data removed]",
      "text/plain": [
       "<Figure size 432x288 with 1 Axes>"
      ]
     },
     "execution_count": 108,
     "metadata": {},
     "output_type": "execute_result"
    }
   ],
   "source": [
    "ax.scatter([4.5], [1])\n",
    "fig"
   ]
  },
  {
   "cell_type": "markdown",
   "metadata": {},
   "source": [
    "Pretty easy right? So that's the intuition behind KNN, let's move on to how it works."
   ]
  },
  {
   "cell_type": "markdown",
   "metadata": {},
   "source": [
    "## Data Prep"
   ]
  },
  {
   "cell_type": "code",
   "execution_count": 102,
   "metadata": {},
   "outputs": [],
   "source": [
    "# First import the iris dataset, using sklearn but the dataset is widely available\n",
    "from sklearn.datasets import load_iris\n",
    "import pandas as pd\n",
    "import numpy as np\n",
    "\n",
    "\n",
    "# Converting sklearn dataset into a more generic pandas dataframe\n",
    "iris = load_iris()\n",
    "# Load iris data into a DataFrame\n",
    "iris_data = pd.DataFrame(data=iris.data, columns=iris.feature_names)\n",
    "# Add a targets column\n",
    "iris_data['target'] = pd.Series(iris.target)"
   ]
  },
  {
   "cell_type": "code",
   "execution_count": 103,
   "metadata": {},
   "outputs": [
    {
     "data": {
      "text/html": [
       "<div>\n",
       "<style scoped>\n",
       "    .dataframe tbody tr th:only-of-type {\n",
       "        vertical-align: middle;\n",
       "    }\n",
       "\n",
       "    .dataframe tbody tr th {\n",
       "        vertical-align: top;\n",
       "    }\n",
       "\n",
       "    .dataframe thead th {\n",
       "        text-align: right;\n",
       "    }\n",
       "</style>\n",
       "<table border=\"1\" class=\"dataframe\">\n",
       "  <thead>\n",
       "    <tr style=\"text-align: right;\">\n",
       "      <th></th>\n",
       "      <th>sepal length (cm)</th>\n",
       "      <th>sepal width (cm)</th>\n",
       "      <th>petal length (cm)</th>\n",
       "      <th>petal width (cm)</th>\n",
       "      <th>target</th>\n",
       "    </tr>\n",
       "  </thead>\n",
       "  <tbody>\n",
       "    <tr>\n",
       "      <th>0</th>\n",
       "      <td>5.1</td>\n",
       "      <td>3.5</td>\n",
       "      <td>1.4</td>\n",
       "      <td>0.2</td>\n",
       "      <td>0</td>\n",
       "    </tr>\n",
       "    <tr>\n",
       "      <th>1</th>\n",
       "      <td>4.9</td>\n",
       "      <td>3.0</td>\n",
       "      <td>1.4</td>\n",
       "      <td>0.2</td>\n",
       "      <td>0</td>\n",
       "    </tr>\n",
       "    <tr>\n",
       "      <th>2</th>\n",
       "      <td>4.7</td>\n",
       "      <td>3.2</td>\n",
       "      <td>1.3</td>\n",
       "      <td>0.2</td>\n",
       "      <td>0</td>\n",
       "    </tr>\n",
       "    <tr>\n",
       "      <th>3</th>\n",
       "      <td>4.6</td>\n",
       "      <td>3.1</td>\n",
       "      <td>1.5</td>\n",
       "      <td>0.2</td>\n",
       "      <td>0</td>\n",
       "    </tr>\n",
       "    <tr>\n",
       "      <th>4</th>\n",
       "      <td>5.0</td>\n",
       "      <td>3.6</td>\n",
       "      <td>1.4</td>\n",
       "      <td>0.2</td>\n",
       "      <td>0</td>\n",
       "    </tr>\n",
       "  </tbody>\n",
       "</table>\n",
       "</div>"
      ],
      "text/plain": [
       "   sepal length (cm)  sepal width (cm)  petal length (cm)  petal width (cm)  \\\n",
       "0                5.1               3.5                1.4               0.2   \n",
       "1                4.9               3.0                1.4               0.2   \n",
       "2                4.7               3.2                1.3               0.2   \n",
       "3                4.6               3.1                1.5               0.2   \n",
       "4                5.0               3.6                1.4               0.2   \n",
       "\n",
       "   target  \n",
       "0       0  \n",
       "1       0  \n",
       "2       0  \n",
       "3       0  \n",
       "4       0  "
      ]
     },
     "execution_count": 103,
     "metadata": {},
     "output_type": "execute_result"
    }
   ],
   "source": [
    "# Lets take a look at the first 5 rows of data\n",
    "iris_data.head()"
   ]
  },
  {
   "cell_type": "markdown",
   "metadata": {},
   "source": [
    "Now we have our dataset. Following standard machine learning practices we will split our dataset into 3. \n",
    "\n",
    "Training Set - 70% - used to train the model\n",
    "\n",
    "Validation Set - 15% - used as a validation set to tune hyperparameters\n",
    "\n",
    "Testing Set - 15% - used to provide an unbiased evaluation"
   ]
  },
  {
   "cell_type": "code",
   "execution_count": 104,
   "metadata": {},
   "outputs": [],
   "source": [
    "# Take a random sample to train the model\n",
    "training = iris_data.sample(frac=0.7,random_state=55)\n",
    "# Temp frame with training data removed\n",
    "temp = iris_data[~iris_data.isin(training)].dropna()\n",
    "# Split remaining frame randomly in 2\n",
    "validation = temp.sample(frac=0.5,random_state=55)\n",
    "testing = temp[~temp.isin(validation)].dropna()"
   ]
  },
  {
   "cell_type": "markdown",
   "metadata": {},
   "source": [
    "Let's take a look at how this graphs out"
   ]
  },
  {
   "cell_type": "code",
   "execution_count": 105,
   "metadata": {},
   "outputs": [
    {
     "data": {
      "image/png": "[encoded data removed]",
      "text/plain": [
       "<Figure size 432x288 with 1 Axes>"
      ]
     },
     "metadata": {},
     "output_type": "display_data"
    }
   ],
   "source": [
    "plt.scatter(training['petal length (cm)'], training['petal width (cm)'], c=training['target'])\n",
    "plt.show()"
   ]
  },
  {
   "cell_type": "markdown",
   "metadata": {},
   "source": [
    "We have 3 nice little clusters in this two dimension analysis so lets talk distance functions.\n",
    "\n",
    "## Distance metrics\n",
    "\n",
    "Distance metrics are the keystone of this learning algorithm. The choice or even creation will heavily depend on the data you are modelling.\n",
    "\n",
    "A distance metric is a function that measures the \"difference\" between two points.\n",
    "\n",
    "Let's take a look at a couple different metrics.\n",
    "\n",
    "### Euclidean\n",
    "\n",
    "The Euclidean distance metric is the simpliest and most obvious choice. It's the distance between any two points as the crow flies. The theory behind it is the same as the pythagreous therom, c<sup>2</sup> = a<sup>2</sup> + b<sup>2</sup>.\n",
    "\n",
    "In 2d space comparing points P(p<sub>1</sub>, p<sub>2</sub>) and Q(q<sub>1</sub>, q<sub>2</sub>), its as simple as $\\sqrt{(q_1 - p_1)^2 + (q_2 - p_1)^2}$\n",
    "\n",
    "In more general terms for the points P(p<sub>1</sub>, p<sub>2</sub>, ... , p<sub>n</sub>) and Q(q<sub>1</sub>, q<sub>2</sub>, ... , q<sub>n</sub>) it can be written as $\\sqrt{\\sum{(q_i - p_i)^2}}$\n",
    "\n",
    "![Euclidean Distance](https://miro.medium.com/max/1400/1*IVy5Ozk6e3sQtG_wuKo19A.jpeg)\n",
    "\n",
    "Euclidean distance is the simpliest and most common distance measure. Whenever magnitude is an important metric euclidean distance is generally a good choice. Something important to remember, in high dimension spaces, normalizings the distances may be required.\n",
    "\n"
   ]
  },
  {
   "cell_type": "code",
   "execution_count": 1,
   "metadata": {},
   "outputs": [],
   "source": [
    "def euclidean_distance(p, q):\n",
    "    \"\"\" ([int], [int]) -> int\n",
    "    A simple dimensional generic distance metric between two points.\n",
    "    Measures the striaght line distance between  two points.\n",
    "    \n",
    "    This code sample is for a visualization of how it works. You can \n",
    "    find and should use algorithm in standard numerical computing \n",
    "    libraries\n",
    "        numpy - numpy.linalg.norm(p-q)\n",
    "        scipy - scipy.spatial.distance.euclidean(p, q)\n",
    "        sklearn - sklearn.metrics.pairwise.euclidean_distances(p, q)\n",
    "        etc.\n",
    "    runtime: O(n)\n",
    "    \n",
    "    >>> p, q = [0, 0], [2, 0]\n",
    "    >>> euclidean_distance(p, q)\n",
    "    2\n",
    "    >>> r, s = [1, 1, 1], [4, 5, 13]\n",
    "    >>> euclidean_distance(r, s)\n",
    "    13\n",
    "    \"\"\"\n",
    "    result = 0\n",
    "    for pi, qi in zip(p, q):\n",
    "        result += (qi - pi)**2\n",
    "    return np.sqrt(result)"
   ]
  },
  {
   "cell_type": "markdown",
   "metadata": {},
   "source": [
    "### Cosine distance\n",
    "\n",
    "Cosine distance, also known as cosine similarity, is the angle measurement between two vectors.\n",
    "\n",
    "![Cosine distance](https://www.oreilly.com/library/view/statistics-for-machine/9781788295758/assets/2b4a7a82-ad4c-4b2a-b808-e423a334de6f.png)\n",
    "\n",
    "$cos(\\pmb x, \\pmb y) = \\frac {\\pmb x \\cdot \\pmb y}{||\\pmb x|| \\cdot ||\\pmb y||}$\n",
    "\n",
    "Cosine distance is commonly used when magnitude is an irrelavent metric.\n",
    "\n",
    "For example, when attempting to match similar documents, a common approach is to compare the maximum number of common words in  the documents. However a flaw with this approach is that as the document length increases so does the words used.\n"
   ]
  },
  {
   "cell_type": "code",
   "execution_count": 2,
   "metadata": {},
   "outputs": [],
   "source": [
    "def cosine_distance(p, q):\n",
    "    \"\"\"([int], [int]) -> int\n",
    "    A simple dimensional-generic distance metric between two points\n",
    "    Measures the angle between two points.\n",
    "    \n",
    "    This code sample is for a visualization of how it works. You can \n",
    "    find and should use algorithm in standard numerical computing \n",
    "    libraries\n",
    "        scipy - scipy.spatial.distance.cosine(p, q)\n",
    "        sklearn - sklearn.metrics.pairwise.cosine_similarity(p, q)\n",
    "    \"\"\"\n",
    "    norm_pi, norm_qi, dot_product = 0, 0, 0\n",
    "    # Computer dot product and norms   \n",
    "    for i in range(len(v1)):\n",
    "        p_i = p[i]; q_i = q[i]\n",
    "        norm_p += p_i*p_i\n",
    "        norm_q += q_i*q_i\n",
    "        dot += p_i*q+i\n",
    "    return dot/math.sqrt(norm_p*normq)\n",
    "\n",
    "def numpy_cosine_distance(p, q):\n",
    "    \"\"\"\n",
    "    A simple numpy implementation\n",
    "    \"\"\"\n",
    "    dot = np.dot(p, q)\n",
    "    norm_p = np.linalg.norm(p)\n",
    "    norm_q = np.linalg.norm(q)\n",
    "    return dot / (norm_p * norm_q)"
   ]
  },
  {
   "cell_type": "code",
   "execution_count": null,
   "metadata": {},
   "outputs": [],
   "source": []
  }
 ],
 "metadata": {
  "kernelspec": {
   "display_name": "Python 3",
   "language": "python",
   "name": "python3"
  },
  "language_info": {
   "codemirror_mode": {
    "name": "ipython",
    "version": 3
   },
   "file_extension": ".py",
   "mimetype": "text/x-python",
   "name": "python",
   "nbconvert_exporter": "python",
   "pygments_lexer": "ipython3",
   "version": "3.7.2"
  }
 },
 "nbformat": 4,
 "nbformat_minor": 2
}

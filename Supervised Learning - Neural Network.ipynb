{
 "cells": [
  {
   "cell_type": "markdown",
   "metadata": {},
   "source": [
    "# Neural Network"
   ]
  },
  {
   "cell_type": "markdown",
   "metadata": {},
   "source": [
    "The goal of machine learning is to create an artificially intelligent machine. So where better to draw inspiration from than the only intelligent agent that we know of, the brain.\n",
    "\n",
    "In order to replicate the brain, we need to understand the mechanisms as to how it works. Let's start with looking at the big picture.\n",
    "\n",
    "The brain is a bunch of interconnected neurons that take some input signal (sound, light, touch, etc.) and passes it through a bunch of neurons, until it produces some output (thought, words, actions, etc).\n",
    "\n",
    "Now lets get granular, neurons. Let's take a look at the parts of a neuron cell.\n",
    "\n",
    "![Neuron](./neuron.png)\n",
    "\n",
    "There's only really 3 parts of the neuron that we care about. The dendrites, cell body and the axon terminals. \n",
    "\n",
    "Dendrites - The input, this part of the cells takes input signals, each source of input has different sensitivities.\n",
    "\n",
    "The cell body - The cell body processes the input signals, depending on the specific sensitivities, if the signal is strong enough the cell decides to \"fire\"\n",
    "\n",
    "Axon Terminals - Once the cell fires, the signal travels to the axon terminals which then pass on the signal to another cell's dendrites\n",
    "\n",
    "So breaking it down we need\n",
    "\n",
    "1. Input\n",
    "2. Weights\n",
    "3. A mechanism of firing\n",
    "4. A bunch of neurons\n",
    "5. Output\n",
    "\n",
    "### Inputs\n",
    "\n",
    "\n"
   ]
  },
  {
   "cell_type": "code",
   "execution_count": null,
   "metadata": {},
   "outputs": [],
   "source": []
  }
 ],
 "metadata": {
  "kernelspec": {
   "display_name": "Python 3",
   "language": "python",
   "name": "python3"
  },
  "language_info": {
   "codemirror_mode": {
    "name": "ipython",
    "version": 3
   },
   "file_extension": ".py",
   "mimetype": "text/x-python",
   "name": "python",
   "nbconvert_exporter": "python",
   "pygments_lexer": "ipython3",
   "version": "3.7.1"
  }
 },
 "nbformat": 4,
 "nbformat_minor": 2
}

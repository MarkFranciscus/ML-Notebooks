{
 "cells": [
  {
   "cell_type": "markdown",
   "metadata": {},
   "source": [
    "# Neural Network"
   ]
  },
  {
   "cell_type": "markdown",
   "metadata": {},
   "source": [
    "The goal of machine learning is to create an artificially intelligent machine. So where better to draw inspiration from than the only intelligent agent that we know of, the brain.\n",
    "\n",
    "In order to replicate the brain, we need to understand the mechanisms as to how it works. Let's start with looking at the big picture.\n",
    "\n",
    "The brain is a bunch of interconnected neurons that take some input signal (sound, light, touch, etc.) and passes it through a bunch of neurons, until it produces some output (thought, words, actions, etc).\n",
    "\n",
    "Now lets get granular, neurons. Neurons"
   ]
  }
 ],
 "metadata": {
  "kernelspec": {
   "display_name": "Python 3",
   "language": "python",
   "name": "python3"
  },
  "language_info": {
   "codemirror_mode": {
    "name": "ipython",
    "version": 3
   },
   "file_extension": ".py",
   "mimetype": "text/x-python",
   "name": "python",
   "nbconvert_exporter": "python",
   "pygments_lexer": "ipython3",
   "version": "3.6.5"
  }
 },
 "nbformat": 4,
 "nbformat_minor": 2
}

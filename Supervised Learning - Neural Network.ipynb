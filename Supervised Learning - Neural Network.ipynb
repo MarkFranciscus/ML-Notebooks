{
 "cells": [
  {
   "cell_type": "markdown",
   "metadata": {},
   "source": [
    "# Neural Network"
   ]
  },
  {
   "cell_type": "markdown",
   "metadata": {},
   "source": [
    "The goal of machine learning is to create an artificially intelligent machine. So where better to draw inspiration from than the only intelligent agent that we know of, the brain.\n",
    "\n",
    "In order to replicate the brain, we need to understand the mechanisms as to how it works. Let's start with looking at the big picture.\n",
    "\n",
    "The brain is a bunch of interconnected neurons that take some input signal (sound, light, touch, etc.) and passes it through a bunch of neurons, until it produces some output (thought, words, actions, etc).\n",
    "\n",
    "Now lets get granular, neurons. Let's take a look at the parts of a neuron cell.\n",
    "\n",
    "![Neuron](./neuron.png)\n",
    "\n",
    "There's only really 3 parts of the neuron that we care about. The dendrites, cell body and the axon terminals. \n",
    "\n",
    "Dendrites - The input, this part of the cells takes input signals, each source of input has different sensitivities.\n",
    "\n",
    "The cell body - The cell body processes the input signals, depending on the specific sensitivities, if the signal is strong enough the cell decides to \"fire\"\n",
    "\n",
    "Axon Terminals - Once the cell fires, the signal travels to the axon terminals which then pass on the signal to another cell's dendrites\n",
    "\n",
    "So breaking it down we need\n",
    "\n",
    "1. Input\n",
    "2. Weights\n",
    "3. A mechanism of firing\n",
    "4. A bunch of neurons\n",
    "5. Output\n",
    "\n",
    "### Inputs\n",
    "\n",
    "The input to the neural network is the standard, whatever data you're trying to classify. The same as other machine learning algorithms.\n",
    "\n",
    "### Weights\n",
    "\n",
    "Each connection between neurons has a weight.\n",
    "\n",
    "![Connections](./neural_network.png)\n",
    "\n",
    "Each of those lines is associated with a weight. Each weight leading to a neuron feeds into the firing mechanism.\n",
    "\n",
    "### Firing mechanism\n",
    "\n"
   ]
  },
  {
   "cell_type": "code",
   "execution_count": 1,
   "metadata": {},
   "outputs": [
    {
     "ename": "NameError",
     "evalue": "name 'The' is not defined",
     "output_type": "error",
     "traceback": [
      "\u001b[1;31m---------------------------------------------------------------------------\u001b[0m",
      "\u001b[1;31mNameError\u001b[0m                                 Traceback (most recent call last)",
      "\u001b[1;32m<ipython-input-1-4d7f59897bfe>\u001b[0m in \u001b[0;36m<module>\u001b[1;34m()\u001b[0m\n\u001b[1;32m----> 1\u001b[1;33m \u001b[0mThe\u001b[0m\u001b[1;33m\u001b[0m\u001b[0m\n\u001b[0m",
      "\u001b[1;31mNameError\u001b[0m: name 'The' is not defined"
     ]
    }
   ],
   "source": []
  }
 ],
 "metadata": {
  "kernelspec": {
   "display_name": "Python 3",
   "language": "python",
   "name": "python3"
  },
  "language_info": {
   "codemirror_mode": {
    "name": "ipython",
    "version": 3
   },
   "file_extension": ".py",
   "mimetype": "text/x-python",
   "name": "python",
   "nbconvert_exporter": "python",
   "pygments_lexer": "ipython3",
   "version": "3.6.5"
  }
 },
 "nbformat": 4,
 "nbformat_minor": 2
}

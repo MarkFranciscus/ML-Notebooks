{
 "cells": [
  {
   "cell_type": "code",
   "execution_count": 50,
   "metadata": {},
   "outputs": [],
   "source": [
    "%matplotlib inline"
   ]
  },
  {
   "cell_type": "markdown",
   "metadata": {},
   "source": [
    "# Logistic Regression\n",
    "\n",
    "Despite its name logistic regression is more of a classification algorithm rather than a regression. Logistic regression is used to assign observations to a set of classes. Technically it is a regression algorithm given that the algorithm transforms its output to probability values that describe the confidence of the classifcation.\n",
    "\n",
    "## Comparing to linear regression (put at the end)\n",
    "\n",
    "Linear regression models work great for regression problems, but generally do not perform well on classification problems.\n",
    "\n",
    "Linear regression will spit out weights for you all day long. You can get clever and label you data with one of the classes being 0 and the other with 1. It will work, kind of, there's a few problems with this approach.\n",
    "\n",
    "\n",
    "\n",
    "\n",
    "## Types of logistic regression\n",
    "\n",
    "There are two types of logistic regression\n",
    "\n",
    "### Binary\n",
    "\n",
    "Binary logistic regression like its name suggests means there are two discrete classes, essentially a yes/no, pass/fail scenario.\n",
    "\n",
    "### Multiclass\n",
    "\n",
    "Multiclass logistic regression is when theres a 3 or more classes.\n",
    "\n",
    "## Intuition\n",
    "\n",
    "Sometimes a straight line doesn't quite fit the data.\n",
    "\n",
    "If we have something along the lines of \n",
    "\n"
   ]
  },
  {
   "cell_type": "code",
   "execution_count": 51,
   "metadata": {},
   "outputs": [
    {
     "data": {
      "text/plain": [
       "[(-0.5, 1.5), (0, 8)]"
      ]
     },
     "execution_count": 51,
     "metadata": {},
     "output_type": "execute_result"
    },
    {
     "data": {
      "image/png": "[encoded data removed]",
      "text/plain": [
       "<Figure size 432x288 with 1 Axes>"
      ]
     },
     "metadata": {
      "needs_background": "light"
     },
     "output_type": "display_data"
    }
   ],
   "source": [
    "import numpy as np\n",
    "import matplotlib.pyplot as plt\n",
    "\n",
    "x = [2, 2.5, 3, 6, 7, 7.5]\n",
    "y = [0, 0, 0, 1, 1, 1]\n",
    "\n",
    "fig, ax = plt.subplots()\n",
    "ax.set_ylim(bottom=0, top=6)\n",
    "ax.scatter(x, y)\n",
    "ax.set(xlim=(0, 8), ylim=(-0.5, 1.5))"
   ]
  },
  {
   "cell_type": "markdown",
   "metadata": {},
   "source": [
    "If using linear regression, we might get something like"
   ]
  },
  {
   "cell_type": "code",
   "execution_count": 52,
   "metadata": {},
   "outputs": [],
   "source": [
    "ln1, = ax.plot([0,8],[0,1], color='b')\n",
    "fig"
   ]
  },
  {
   "cell_type": "code",
   "execution_count": null,
   "metadata": {},
   "outputs": [],
   "source": [
    "ax.lines.remove(ln)"
   ]
  },
  {
   "cell_type": "markdown",
   "metadata": {},
   "source": [
    "But maybe a different kind of line is a better idea"
   ]
  },
  {
   "cell_type": "code",
   "execution_count": 56,
   "metadata": {},
   "outputs": [
    {
     "data": {
      "image/png": "[encoded data removed]",
      "text/plain": [
       "<Figure size 432x288 with 1 Axes>"
      ]
     },
     "execution_count": 56,
     "metadata": {},
     "output_type": "execute_result"
    }
   ],
   "source": [
    "ln2, = ax.axvline(x=4.5)\n",
    "fig"
   ]
  },
  {
   "cell_type": "markdown",
   "metadata": {},
   "source": [
    "Everything to the left is not apart of the class and everything to the right does."
   ]
  }
 ],
 "metadata": {
  "kernelspec": {
   "display_name": "Python 3",
   "language": "python",
   "name": "python3"
  },
  "language_info": {
   "codemirror_mode": {
    "name": "ipython",
    "version": 3
   },
   "file_extension": ".py",
   "mimetype": "text/x-python",
   "name": "python",
   "nbconvert_exporter": "python",
   "pygments_lexer": "ipython3",
   "version": "3.7.1"
  }
 },
 "nbformat": 4,
 "nbformat_minor": 2
}
